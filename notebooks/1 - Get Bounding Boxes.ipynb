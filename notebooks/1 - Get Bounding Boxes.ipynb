{
 "cells": [
  {
   "cell_type": "code",
   "execution_count": 1,
   "metadata": {},
   "outputs": [],
   "source": [
    "%load_ext autoreload\n",
    "%autoreload 2"
   ]
  },
  {
   "cell_type": "code",
   "execution_count": 2,
   "metadata": {},
   "outputs": [],
   "source": [
    "import sys\n",
    "\n",
    "# Add the action_labeler package to Python path\n",
    "sys.path.append(\"../\")"
   ]
  },
  {
   "cell_type": "code",
   "execution_count": 4,
   "metadata": {},
   "outputs": [
    {
     "data": {
      "text/plain": [
       "[PosixPath('../../datasets/dog/laying_down'),\n",
       " PosixPath('../../datasets/dog/running'),\n",
       " PosixPath('../../datasets/dog/sitting'),\n",
       " PosixPath('../../datasets/dog/standing'),\n",
       " PosixPath('../../datasets/dog/walking')]"
      ]
     },
     "execution_count": 4,
     "metadata": {},
     "output_type": "execute_result"
    }
   ],
   "source": [
    "from pathlib import Path\n",
    "from action_labeler.helpers import get_image_folders, DetectionManager\n",
    "\n",
    "FOLDERS = get_image_folders(Path(\"../../datasets/dog/\"))\n",
    "FOLDERS"
   ]
  },
  {
   "cell_type": "code",
   "execution_count": 5,
   "metadata": {},
   "outputs": [
    {
     "name": "stdout",
     "output_type": "stream",
     "text": [
      "Starting: ../../datasets/dog/laying_down\n"
     ]
    },
    {
     "data": {
      "application/vnd.jupyter.widget-view+json": {
       "model_id": "0fe722d2211240fe81cca9598adbc6e4",
       "version_major": 2,
       "version_minor": 0
      },
      "text/plain": [
       "  0%|          | 0/324 [00:00<?, ?it/s]"
      ]
     },
     "metadata": {},
     "output_type": "display_data"
    },
    {
     "name": "stdout",
     "output_type": "stream",
     "text": [
      "Results saved to \u001b[1mruns/temp/predict\u001b[0m\n",
      "279 labels saved to runs/temp/predict/labels\n",
      "Starting: ../../datasets/dog/running\n"
     ]
    },
    {
     "data": {
      "application/vnd.jupyter.widget-view+json": {
       "model_id": "fb9d7ca2d3de41ae9d7ad80598a9db42",
       "version_major": 2,
       "version_minor": 0
      },
      "text/plain": [
       "  0%|          | 0/469 [00:00<?, ?it/s]"
      ]
     },
     "metadata": {},
     "output_type": "display_data"
    },
    {
     "name": "stdout",
     "output_type": "stream",
     "text": [
      "Results saved to \u001b[1mruns/temp/predict\u001b[0m\n",
      "428 labels saved to runs/temp/predict/labels\n",
      "Starting: ../../datasets/dog/sitting\n"
     ]
    },
    {
     "data": {
      "application/vnd.jupyter.widget-view+json": {
       "model_id": "16e5f93a27fa42a98703cd892372763a",
       "version_major": 2,
       "version_minor": 0
      },
      "text/plain": [
       "  0%|          | 0/539 [00:00<?, ?it/s]"
      ]
     },
     "metadata": {},
     "output_type": "display_data"
    },
    {
     "name": "stdout",
     "output_type": "stream",
     "text": [
      "Results saved to \u001b[1mruns/temp/predict\u001b[0m\n",
      "491 labels saved to runs/temp/predict/labels\n",
      "Starting: ../../datasets/dog/standing\n"
     ]
    },
    {
     "data": {
      "application/vnd.jupyter.widget-view+json": {
       "model_id": "d5c2cf38f0b141469e13b9cf4f0519e5",
       "version_major": 2,
       "version_minor": 0
      },
      "text/plain": [
       "  0%|          | 0/93 [00:00<?, ?it/s]"
      ]
     },
     "metadata": {},
     "output_type": "display_data"
    },
    {
     "name": "stdout",
     "output_type": "stream",
     "text": [
      "Results saved to \u001b[1mruns/temp/predict\u001b[0m\n",
      "78 labels saved to runs/temp/predict/labels\n",
      "Starting: ../../datasets/dog/walking\n"
     ]
    },
    {
     "data": {
      "application/vnd.jupyter.widget-view+json": {
       "model_id": "2c72e3c989a44f94a1d6451bbf27a718",
       "version_major": 2,
       "version_minor": 0
      },
      "text/plain": [
       "  0%|          | 0/312 [00:00<?, ?it/s]"
      ]
     },
     "metadata": {},
     "output_type": "display_data"
    },
    {
     "name": "stdout",
     "output_type": "stream",
     "text": [
      "Results saved to \u001b[1mruns/temp/predict\u001b[0m\n",
      "294 labels saved to runs/temp/predict/labels\n"
     ]
    }
   ],
   "source": [
    "# classes = [0]  # person\n",
    "classes = [16]  # dog\n",
    "\n",
    "for folder in sorted(FOLDERS):\n",
    "    print(\"Starting:\", str(folder))\n",
    "    DetectionManager(folder).detect(\n",
    "        model_name=\"yolo12n.pt\",\n",
    "        detect_folder_name=\"detect\",\n",
    "        batch=64,\n",
    "        classes=classes,\n",
    "    )"
   ]
  },
  {
   "cell_type": "code",
   "execution_count": null,
   "metadata": {},
   "outputs": [],
   "source": []
  }
 ],
 "metadata": {
  "kernelspec": {
   "display_name": "transformers",
   "language": "python",
   "name": "python3"
  },
  "language_info": {
   "codemirror_mode": {
    "name": "ipython",
    "version": 3
   },
   "file_extension": ".py",
   "mimetype": "text/x-python",
   "name": "python",
   "nbconvert_exporter": "python",
   "pygments_lexer": "ipython3",
   "version": "3.12.9"
  }
 },
 "nbformat": 4,
 "nbformat_minor": 2
}
