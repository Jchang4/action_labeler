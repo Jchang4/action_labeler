{
 "cells": [
  {
   "cell_type": "code",
   "execution_count": 1,
   "metadata": {},
   "outputs": [],
   "source": [
    "%load_ext autoreload\n",
    "%autoreload 2"
   ]
  },
  {
   "cell_type": "code",
   "execution_count": 2,
   "metadata": {},
   "outputs": [],
   "source": [
    "import sys\n",
    "\n",
    "# Add the action_labeler package to Python path\n",
    "sys.path.append(\"../\")"
   ]
  },
  {
   "cell_type": "code",
   "execution_count": 3,
   "metadata": {},
   "outputs": [
    {
     "data": {
      "text/plain": [
       "[PosixPath('samples')]"
      ]
     },
     "execution_count": 3,
     "metadata": {},
     "output_type": "execute_result"
    }
   ],
   "source": [
    "from pathlib import Path\n",
    "from action_labeler.helpers import get_image_folders\n",
    "from action_labeler.detections import DetectionManager\n",
    "\n",
    "FOLDERS = get_image_folders(Path(\"./samples/\"))\n",
    "FOLDERS"
   ]
  },
  {
   "cell_type": "code",
   "execution_count": 4,
   "metadata": {},
   "outputs": [
    {
     "name": "stdout",
     "output_type": "stream",
     "text": [
      "Starting: samples\n",
      "Downloading https://github.com/ultralytics/assets/releases/download/v8.3.0/yolov9e-seg.pt to 'yolov9e-seg.pt'...\n"
     ]
    },
    {
     "name": "stderr",
     "output_type": "stream",
     "text": [
      "100%|██████████| 117M/117M [00:01<00:00, 70.6MB/s] \n"
     ]
    },
    {
     "data": {
      "application/vnd.jupyter.widget-view+json": {
       "model_id": "d4f8a3b67e5a406cb9bd2893952a85b6",
       "version_major": 2,
       "version_minor": 0
      },
      "text/plain": [
       "  0%|          | 0/1 [00:00<?, ?it/s]"
      ]
     },
     "metadata": {},
     "output_type": "display_data"
    },
    {
     "name": "stdout",
     "output_type": "stream",
     "text": [
      "Results saved to \u001b[1mruns/temp/predict\u001b[0m\n",
      "1 label saved to runs/temp/predict/labels\n"
     ]
    }
   ],
   "source": [
    "# classes = [0]  # person\n",
    "classes = [16]  # dog\n",
    "\n",
    "for folder in sorted(FOLDERS):\n",
    "    print(\"Starting:\", str(folder))\n",
    "    DetectionManager(folder).detect(\n",
    "        # model_name=\"yolo12n.pt\",\n",
    "        # detect_folder_name=\"detect\",\n",
    "        model_name=\"yolov9e-seg.pt\",\n",
    "        detect_folder_name=\"segment\",\n",
    "        batch=64,\n",
    "        classes=classes,\n",
    "    )"
   ]
  },
  {
   "cell_type": "markdown",
   "metadata": {},
   "source": [
    "# Detection Output\n",
    "\n",
    "This creates a `/detect/` or `/segment/` folder in the parent path, in this case `./samples/`"
   ]
  },
  {
   "cell_type": "markdown",
   "metadata": {},
   "source": []
  }
 ],
 "metadata": {
  "kernelspec": {
   "display_name": "transformers",
   "language": "python",
   "name": "python3"
  },
  "language_info": {
   "codemirror_mode": {
    "name": "ipython",
    "version": 3
   },
   "file_extension": ".py",
   "mimetype": "text/x-python",
   "name": "python",
   "nbconvert_exporter": "python",
   "pygments_lexer": "ipython3",
   "version": "3.12.9"
  }
 },
 "nbformat": 4,
 "nbformat_minor": 2
}
