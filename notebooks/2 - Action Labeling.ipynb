{
 "cells": [
  {
   "cell_type": "code",
   "execution_count": 1,
   "metadata": {},
   "outputs": [],
   "source": [
    "%load_ext autoreload\n",
    "%autoreload 2"
   ]
  },
  {
   "cell_type": "code",
   "execution_count": 2,
   "metadata": {},
   "outputs": [],
   "source": [
    "import sys\n",
    "\n",
    "# Add the action_labeler package to Python path\n",
    "sys.path.append(\"../\")"
   ]
  },
  {
   "cell_type": "markdown",
   "metadata": {},
   "source": [
    "# Prompts"
   ]
  },
  {
   "cell_type": "code",
   "execution_count": 3,
   "metadata": {},
   "outputs": [],
   "source": [
    "from IPython.display import Markdown\n",
    "from pathlib import Path\n",
    "\n",
    "from PIL import Image\n",
    "\n",
    "from action_labeler.helpers import load_image\n",
    "from action_labeler.detections.detection import Detection\n",
    "from action_labeler.prompt import (\n",
    "    TextPrompt,\n",
    "    DescriptionActionPrompt,\n",
    "    DescriptionOnlyPrompt,\n",
    ")"
   ]
  },
  {
   "cell_type": "code",
   "execution_count": 4,
   "metadata": {},
   "outputs": [
    {
     "data": {
      "text/plain": [
       "'Describe the image'"
      ]
     },
     "execution_count": 4,
     "metadata": {},
     "output_type": "execute_result"
    }
   ],
   "source": [
    "prompt = TextPrompt(\n",
    "    text_prompt=\"Describe the image\",\n",
    ")\n",
    "\n",
    "prompt.prompt(\n",
    "    0,\n",
    "    Detection.empty(),\n",
    "    Path(\"./samples/images/dog_laying_down_1.jpg\"),\n",
    ")"
   ]
  },
  {
   "cell_type": "markdown",
   "metadata": {},
   "source": [
    "### Setup Description File"
   ]
  },
  {
   "cell_type": "code",
   "execution_count": 5,
   "metadata": {},
   "outputs": [
    {
     "name": "stdout",
     "output_type": "stream",
     "text": [
      "Saving 1 images to samples/description.pickle\n",
      "Saved classification file.\n"
     ]
    }
   ],
   "source": [
    "from action_labeler.helpers import save_pickle\n",
    "\n",
    "description_data = {\n",
    "    \"samples/images/dog_laying_down_1.jpg\": {\n",
    "        \"0.7682 0.526039 0.423991 0.613334\": \"dog laying down\",\n",
    "        \"0.21136 0.42622 0.381387 0.702093\": \"dog laying down\",\n",
    "    },\n",
    "}\n",
    "\n",
    "save_pickle(description_data, Path(\"./samples/\"), filename=\"description.pickle\")"
   ]
  },
  {
   "cell_type": "code",
   "execution_count": 6,
   "metadata": {},
   "outputs": [],
   "source": [
    "image_path = Path(\"./samples/images/dog_laying_down_1.jpg\")\n",
    "label_path = Path(\"./samples/detect/dog_laying_down_1.txt\")\n",
    "\n",
    "image = load_image(image_path)\n",
    "\n",
    "detections = Detection.from_text_path(label_path, image.size)"
   ]
  },
  {
   "cell_type": "code",
   "execution_count": 7,
   "metadata": {},
   "outputs": [
    {
     "data": {
      "text/markdown": [
       "Image Caption: \"dog laying down\"\n",
       "\n",
       "What is the person in the purple bounding box actively doing? Classify the image into **one** of the following actions. If multiple actions apply, choose the one with the highest priority. The actions are sorted by priority.\n",
       "\n",
       "Actions:\n",
       "\n",
       "1. \"action1\"\n",
       "2. \"action2\"\n",
       "3. \"action3\"\n",
       "\n",
       "Output Format:\n",
       "- Only respond with \"action: ...\"\n",
       "- Do not include any other text\n",
       "- Do not provide explanations\n",
       "- If none of the actions apply, respond with \"action: none\"\n"
      ],
      "text/plain": [
       "<IPython.core.display.Markdown object>"
      ]
     },
     "execution_count": 7,
     "metadata": {},
     "output_type": "execute_result"
    }
   ],
   "source": [
    "prompt = DescriptionActionPrompt(\n",
    "    description_file_name=\"description.pickle\",\n",
    "    classes=[\"action1\", \"action2\", \"action3\"],\n",
    "    numbered_classes=True,\n",
    ")\n",
    "\n",
    "Markdown(\n",
    "    prompt.prompt(\n",
    "        0,\n",
    "        detections,\n",
    "        image_path,\n",
    "    )\n",
    ")"
   ]
  },
  {
   "cell_type": "code",
   "execution_count": 8,
   "metadata": {},
   "outputs": [
    {
     "data": {
      "text/markdown": [
       "Image Caption: \"dog laying down\"\n",
       "\n",
       "Classify the action of the person in the bounding box. Some examples of classifications are: cooking, cleaning_dishes, using_phone, using_computer, standing, walking, etc. We want to capture what the person is doing and what objects they are interacting with.\n",
       "\n",
       "Output Format:\n",
       "- Only respond with \"action: ...\"\n",
       "- Do not include any other text\n",
       "- Do not provide explanations\n",
       "- If none of the actions apply, respond with \"action: none\"\n",
       "- If multiple actions apply, choose the most specific action.\n"
      ],
      "text/plain": [
       "<IPython.core.display.Markdown object>"
      ]
     },
     "execution_count": 8,
     "metadata": {},
     "output_type": "execute_result"
    }
   ],
   "source": [
    "prompt = DescriptionOnlyPrompt(\n",
    "    description_file_name=\"description.pickle\",\n",
    "    numbered_classes=False,\n",
    ")\n",
    "\n",
    "Markdown(\n",
    "    prompt.prompt(\n",
    "        0,\n",
    "        detections,\n",
    "        image_path,\n",
    "    )\n",
    ")"
   ]
  },
  {
   "cell_type": "code",
   "execution_count": null,
   "metadata": {},
   "outputs": [],
   "source": []
  }
 ],
 "metadata": {
  "kernelspec": {
   "display_name": "transformers",
   "language": "python",
   "name": "python3"
  },
  "language_info": {
   "codemirror_mode": {
    "name": "ipython",
    "version": 3
   },
   "file_extension": ".py",
   "mimetype": "text/x-python",
   "name": "python",
   "nbconvert_exporter": "python",
   "pygments_lexer": "ipython3",
   "version": "3.12.9"
  }
 },
 "nbformat": 4,
 "nbformat_minor": 2
}
